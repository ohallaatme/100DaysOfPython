{
 "cells": [
  {
   "cell_type": "markdown",
   "metadata": {},
   "source": [
    "# `Collections` Module"
   ]
  },
  {
   "cell_type": "markdown",
   "metadata": {},
   "source": [
    "## Days 1/3 (My data used with the examples)"
   ]
  },
  {
   "cell_type": "code",
   "execution_count": 5,
   "metadata": {},
   "outputs": [],
   "source": [
    "# Imports and settings\n",
    "\n",
    "from collections import defaultdict, namedtuple, Counter, deque\n",
    "import csv\n",
    "import random\n",
    "from urllib.request import urlretrieve\n"
   ]
  },
  {
   "cell_type": "markdown",
   "metadata": {},
   "source": [
    "### 1. `namedtuple`\n",
    "> convenient way to define a class without methods, allows storing dict like objects that can be accessed by dot notation attributes"
   ]
  },
  {
   "cell_type": "markdown",
   "metadata": {},
   "source": [
    "#### To contrast, here is some samples of a classic tuple and f notation"
   ]
  },
  {
   "cell_type": "code",
   "execution_count": 6,
   "metadata": {},
   "outputs": [
    {
     "data": {
      "text/plain": [
       "'katie is a coder'"
      ]
     },
     "execution_count": 6,
     "metadata": {},
     "output_type": "execute_result"
    }
   ],
   "source": [
    "# example of a classic tuple\n",
    "user = ('katie', 'coder')\n",
    "\n",
    "# We have to use ugly code to output it, see the below for an example of f notation (Python 3.6 and beyond)\n",
    "\n",
    "f'{user[0]} is a {user[1]}'\n",
    "\n"
   ]
  },
  {
   "cell_type": "code",
   "execution_count": 7,
   "metadata": {},
   "outputs": [
    {
     "data": {
      "text/plain": [
       "'this is an easier way to print'"
      ]
     },
     "execution_count": 7,
     "metadata": {},
     "output_type": "execute_result"
    }
   ],
   "source": [
    "# More f notation fun\n",
    "\n",
    "f'this is an easier way to print'"
   ]
  },
  {
   "cell_type": "code",
   "execution_count": 8,
   "metadata": {},
   "outputs": [
    {
     "data": {
      "text/plain": [
       "'katie loves dogs'"
      ]
     },
     "execution_count": 8,
     "metadata": {},
     "output_type": "execute_result"
    }
   ],
   "source": [
    "f'{user[0]} loves dogs'"
   ]
  },
  {
   "cell_type": "markdown",
   "metadata": {},
   "source": [
    "#### Now, named tuples below"
   ]
  },
  {
   "cell_type": "code",
   "execution_count": 11,
   "metadata": {},
   "outputs": [],
   "source": [
    "# First, set up the named tuple\n",
    "User = namedtuple('User', 'name role')\n",
    "\n",
    "# Now, define an instance of the named tuple\n",
    "\n",
    "user = User(name='Katie', role='Coder')\n"
   ]
  },
  {
   "cell_type": "code",
   "execution_count": 12,
   "metadata": {},
   "outputs": [
    {
     "data": {
      "text/plain": [
       "'Katie'"
      ]
     },
     "execution_count": 12,
     "metadata": {},
     "output_type": "execute_result"
    }
   ],
   "source": [
    "# Now we can access using dot notation\n",
    "\n",
    "user.name"
   ]
  },
  {
   "cell_type": "code",
   "execution_count": 13,
   "metadata": {},
   "outputs": [
    {
     "data": {
      "text/plain": [
       "'Coder'"
      ]
     },
     "execution_count": 13,
     "metadata": {},
     "output_type": "execute_result"
    }
   ],
   "source": [
    "user.role"
   ]
  },
  {
   "cell_type": "code",
   "execution_count": 14,
   "metadata": {},
   "outputs": [
    {
     "data": {
      "text/plain": [
       "'Scooter'"
      ]
     },
     "execution_count": 14,
     "metadata": {},
     "output_type": "execute_result"
    }
   ],
   "source": [
    "# More practice\n",
    "\n",
    "user_2 = User(name='Scooter', role='Dog')\n",
    "\n",
    "user_2.name"
   ]
  },
  {
   "cell_type": "code",
   "execution_count": 16,
   "metadata": {},
   "outputs": [
    {
     "data": {
      "text/plain": [
       "'Katie has a dog named Scooter'"
      ]
     },
     "execution_count": 16,
     "metadata": {},
     "output_type": "execute_result"
    }
   ],
   "source": [
    "# f function output with named tuples\n",
    "\n",
    "f'{user.name} has a dog named {user_2.name}'"
   ]
  },
  {
   "cell_type": "markdown",
   "metadata": {},
   "source": [
    "### 2. `defaultdict`\n",
    "> Eliminates the key error when a key is not in the dictionary that the user queries on without using the 'get' method\n",
    "\n",
    "Useful for nested data structures or any situation where a key may not be there"
   ]
  },
  {
   "cell_type": "code",
   "execution_count": 17,
   "metadata": {},
   "outputs": [
    {
     "data": {
      "text/plain": [
       "[('Katie', 11),\n",
       " ('Scooter', 12),\n",
       " ('Claire', 9),\n",
       " ('Jeff', 4),\n",
       " ('Matt', 7),\n",
       " ('Chris', 1)]"
      ]
     },
     "execution_count": 17,
     "metadata": {},
     "output_type": "execute_result"
    }
   ],
   "source": [
    "# Create a dictionary from a collection\n",
    "\n",
    "# define collection\n",
    "challenges_complete = [('Katie', 11), ('Scooter', 12), ('Claire', 9),\n",
    "                      ('Jeff', 4), ('Matt', 7), ('Chris', 1)]\n",
    "\n",
    "challenges_complete\n"
   ]
  },
  {
   "cell_type": "code",
   "execution_count": 18,
   "metadata": {},
   "outputs": [
    {
     "ename": "KeyError",
     "evalue": "'Katie'",
     "output_type": "error",
     "traceback": [
      "\u001b[0;31m---------------------------------------------------------------------------\u001b[0m",
      "\u001b[0;31mKeyError\u001b[0m                                  Traceback (most recent call last)",
      "\u001b[0;32m<ipython-input-18-cf36869b5dce>\u001b[0m in \u001b[0;36m<module>\u001b[0;34m()\u001b[0m\n\u001b[1;32m      3\u001b[0m \u001b[0;34m\u001b[0m\u001b[0m\n\u001b[1;32m      4\u001b[0m \u001b[0;32mfor\u001b[0m \u001b[0mname\u001b[0m\u001b[0;34m,\u001b[0m \u001b[0mchallenge\u001b[0m \u001b[0;32min\u001b[0m \u001b[0mchallenges_complete\u001b[0m\u001b[0;34m:\u001b[0m\u001b[0;34m\u001b[0m\u001b[0m\n\u001b[0;32m----> 5\u001b[0;31m     \u001b[0mchallenges\u001b[0m\u001b[0;34m[\u001b[0m\u001b[0mname\u001b[0m\u001b[0;34m]\u001b[0m\u001b[0;34m.\u001b[0m\u001b[0mappend\u001b[0m\u001b[0;34m(\u001b[0m\u001b[0mchallenge\u001b[0m\u001b[0;34m)\u001b[0m\u001b[0;34m\u001b[0m\u001b[0m\n\u001b[0m\u001b[1;32m      6\u001b[0m \u001b[0;34m\u001b[0m\u001b[0m\n\u001b[1;32m      7\u001b[0m \u001b[0mchallenges\u001b[0m\u001b[0;34m\u001b[0m\u001b[0m\n",
      "\u001b[0;31mKeyError\u001b[0m: 'Katie'"
     ]
    }
   ],
   "source": [
    "# blank dictionary\n",
    "challenges = {}\n",
    "\n",
    "# Follow up on why this doesnt work\n",
    "for name, challenge in challenges_complete:\n",
    "    challenges[name].append(challenge)\n",
    "\n",
    "challenges\n",
    "    "
   ]
  },
  {
   "cell_type": "markdown",
   "metadata": {},
   "source": [
    "We are getting the above key error because the first round of the loop, the dictionary `challenges` is blank and 'Katie' is not in there yet, thus an error is kicked out. We can get around this with defaultdict."
   ]
  },
  {
   "cell_type": "markdown",
   "metadata": {},
   "source": [
    "##### Now do with defaultdict, which will work"
   ]
  },
  {
   "cell_type": "code",
   "execution_count": 19,
   "metadata": {},
   "outputs": [
    {
     "data": {
      "text/plain": [
       "defaultdict(list,\n",
       "            {'Katie': [11],\n",
       "             'Scooter': [12],\n",
       "             'Claire': [9],\n",
       "             'Jeff': [4],\n",
       "             'Matt': [7],\n",
       "             'Chris': [1]})"
      ]
     },
     "execution_count": 19,
     "metadata": {},
     "output_type": "execute_result"
    }
   ],
   "source": [
    "challenges = defaultdict(list)\n",
    "\n",
    "for name, challenge in challenges_complete:\n",
    "    challenges[name].append(challenge)\n",
    "\n",
    "challenges"
   ]
  },
  {
   "cell_type": "markdown",
   "metadata": {},
   "source": [
    "### 3. `Counter`"
   ]
  },
  {
   "cell_type": "code",
   "execution_count": 21,
   "metadata": {},
   "outputs": [],
   "source": [
    "medium_article = \"\"\" One of the problems with early game streaming services was that they were, in essence, streaming video of a game directly from a powerful computer and nothing more. They relied on streaming technologies designed for one-way video streams of content to your machine — think Netflix, for example. But streaming video games requires a fast, two-way connection — the game needs to make its way from the server to your screen, and any inputs you make must then be communicated back to the server. Then it streams back the reaction to what you just did, and the cycle continues.\n",
    "\n",
    "The internet has come a long way since these first services were imagined. Stadia, for example, uses a standard called WebRTC, which is largely known for making video calls faster and reducing latency by connecting people’s computers directly to one another, rather than routing them through a centralized server. You’ll still need a good internet connection for this to work properly (more on that in a second), but the technology is better equipped to mitigate latency issues than previous efforts like OnLive were.\n",
    "\n",
    "By using WebRTC along with other standards like QUIC and BBR, which further reduce latency and connection congestion, Stadia is able to make an end run around a lot of the problems encountered by early services, because the video stream and controller commands aren’t intricately linked together.\n",
    "\n",
    "When your connection gets flaky — as even the best broadband definitely will sometimes — the stream will still feel responsive. Instead of glitching around the screen like in traditional multiplayer games — itself a major problem that can make games unplayable, as you miss your targets and those with better connections destroy you — the stream will simply drop video quality to compensate, becoming pixelated or distorted as when YouTube has buffering issues. Because the congestion is being managed by these new protocols and your controller commands are processed separately from the video stream, your character still responds, and as the connection recovers, the video quality ramps back up again.\n",
    "\n",
    "The real magic, however — and what makes me so optimistic about Stadia — is that no additional software will be required. Google promises that you’ll be able to play on any device that has a Chrome browser, with a single click. If it works — and early reports indicate it very well could — Stadia will completely transform how games are experienced on every level.\"\"\""
   ]
  },
  {
   "cell_type": "code",
   "execution_count": 22,
   "metadata": {},
   "outputs": [
    {
     "data": {
      "text/plain": [
       "['One', 'of', 'the', 'problems', 'with']"
      ]
     },
     "execution_count": 22,
     "metadata": {},
     "output_type": "execute_result"
    }
   ],
   "source": [
    "# use split() to make a list that divides with the white space\n",
    "medium_article = medium_article.split()\n",
    "medium_article[:5]"
   ]
  },
  {
   "cell_type": "code",
   "execution_count": 26,
   "metadata": {},
   "outputs": [
    {
     "data": {
      "text/plain": [
       "'level.'"
      ]
     },
     "execution_count": 26,
     "metadata": {},
     "output_type": "execute_result"
    }
   ],
   "source": [
    "# Last item\n",
    "\n",
    "medium_article[-1]"
   ]
  },
  {
   "cell_type": "markdown",
   "metadata": {},
   "source": [
    "##### Easily get the five most common words"
   ]
  },
  {
   "cell_type": "code",
   "execution_count": 27,
   "metadata": {},
   "outputs": [
    {
     "data": {
      "text/plain": [
       "[('the', 17), ('a', 12), ('and', 12), ('to', 11), ('—', 10)]"
      ]
     },
     "execution_count": 27,
     "metadata": {},
     "output_type": "execute_result"
    }
   ],
   "source": [
    "Counter(medium_article).most_common(5)"
   ]
  },
  {
   "cell_type": "markdown",
   "metadata": {},
   "source": [
    "### 4. `deque`\n",
    "\n",
    "> deque is a generalized term for stacks and queues and stands for double-ended queue "
   ]
  },
  {
   "cell_type": "markdown",
   "metadata": {},
   "source": [
    "#### Time it!\n",
    "> use the time it module %timeit to measure performance"
   ]
  },
  {
   "cell_type": "code",
   "execution_count": 28,
   "metadata": {},
   "outputs": [],
   "source": [
    "# createing two 10 million integers with range storing one in a list and another in a deque:\n",
    "\n",
    "lst = list(range(10000000))\n",
    "\n",
    "deq = deque(range(10000000))"
   ]
  },
  {
   "cell_type": "markdown",
   "metadata": {},
   "source": [
    "Below we write a function to insert and remove at random locations. A list is pretty slow at this whereas a deque is fast. Check out Grokking Algorithms for explanation at this link ([Grokking Algorithms](https://pybit.es/grokking_algorithms.html) )"
   ]
  },
  {
   "cell_type": "code",
   "execution_count": 30,
   "metadata": {},
   "outputs": [
    {
     "name": "stdout",
     "output_type": "stream",
     "text": [
      "136 ms ± 10.1 ms per loop (mean ± std. dev. of 7 runs, 1 loop each)\n",
      "23.7 µs ± 924 ns per loop (mean ± std. dev. of 7 runs, 10000 loops each)\n"
     ]
    }
   ],
   "source": [
    "def insert_and_delete(i):\n",
    "    for _ in range(10):\n",
    "        index = random.choice(range(100))\n",
    "        i.remove(index)\n",
    "        i.insert(index, index)\n",
    "    \n",
    "%timeit insert_and_delete(lst)\n",
    "\n",
    "%timeit insert_and_delete(deq)\n",
    "        "
   ]
  },
  {
   "cell_type": "markdown",
   "metadata": {},
   "source": [
    "`deque` is much faster - `ChainMap` groups dictionaries to create a single view and is worth checking out"
   ]
  },
  {
   "cell_type": "markdown",
   "metadata": {},
   "source": [
    "# Day 2 - Code Challenge"
   ]
  },
  {
   "cell_type": "markdown",
   "metadata": {},
   "source": [
    "See [Code Challenge 13 - Highest Rated Movie Directors](https://pybit.es/codechallenge13.html). Let's import a movie data set here to practice `collections`."
   ]
  },
  {
   "cell_type": "code",
   "execution_count": 31,
   "metadata": {},
   "outputs": [],
   "source": [
    "movie_data = 'https://raw.githubusercontent.com/pybites/challenges/solutions/13/movie_metadata.csv'"
   ]
  },
  {
   "cell_type": "code",
   "execution_count": 37,
   "metadata": {},
   "outputs": [],
   "source": [
    "movies_csv = 'movies.csv'\n"
   ]
  },
  {
   "cell_type": "code",
   "execution_count": 33,
   "metadata": {},
   "outputs": [
    {
     "data": {
      "text/plain": [
       "('movies.csv', <http.client.HTTPMessage at 0x1394b8908>)"
      ]
     },
     "execution_count": 33,
     "metadata": {},
     "output_type": "execute_result"
    }
   ],
   "source": [
    "urlretrieve(movie_data, movies_csv)\n"
   ]
  },
  {
   "cell_type": "markdown",
   "metadata": {},
   "source": [
    "Here we create a `namedtuple` to describe a movie so we can access movies attributes"
   ]
  },
  {
   "cell_type": "code",
   "execution_count": 41,
   "metadata": {},
   "outputs": [],
   "source": [
    "Movie = namedtuple('Movie', 'title year score')"
   ]
  },
  {
   "cell_type": "markdown",
   "metadata": {},
   "source": [
    "CSV Parse"
   ]
  },
  {
   "cell_type": "code",
   "execution_count": 45,
   "metadata": {},
   "outputs": [],
   "source": [
    "# the data=movies_csv parameter means that the function takes the parameter data and that our movies_csv is the default\n",
    "\n",
    "def get_movies_by_director(data=movies_csv):\n",
    "    \"\"\"this function extracts all movies from csv and stores them\n",
    "    in a dictionary where keys are directors, and values is a list of movies (named tuples)\"\"\"\n",
    "    directors = defaultdict(list)\n",
    "    # The Pythonic way to opena file is to use a context manager ('with' statement)\n",
    "    with open(data, encoding='utf-8') as f:\n",
    "        # CSV dict reader parses every line into an ordered dict\n",
    "        for line in csv.DictReader(f):\n",
    "            try:\n",
    "                # In this try statement we extract the four lines below\n",
    "                director = line['director_name']\n",
    "                #getting rid of weird characters with the replace method\n",
    "                movie = line['movie_title'].replace('\\xa0', '')\n",
    "                # make sure to convert year to integer\n",
    "                year = int(line['title_year'])\n",
    "                \n",
    "                # converting score to float as it has decimals\n",
    "                score = float(line['imdb_score'])\n",
    "            #a value error will get raised for incomplete rows, we use continue to continue the loop and the try/except catches the error and moves us along as we are not interested in incomplete data\n",
    "            except ValueError:\n",
    "                continue\n",
    "            \n",
    "            #putting into namedtuple\n",
    "            m = Movie(title=movie, year=year, score=score)\n",
    "            \n",
    "            # appending to the defaultdict created above (directors)\n",
    "            directors[director].append(m)\n",
    "            \n",
    "    return directors"
   ]
  },
  {
   "cell_type": "code",
   "execution_count": 46,
   "metadata": {},
   "outputs": [],
   "source": [
    "# we dont have to specify the data as we put our data as default (movies.csv)\n",
    "directors = get_movies_by_director()"
   ]
  },
  {
   "cell_type": "markdown",
   "metadata": {},
   "source": [
    "#### Now we can look up directors and get their movies stored in our `namedtuple` objects."
   ]
  },
  {
   "cell_type": "code",
   "execution_count": 47,
   "metadata": {},
   "outputs": [
    {
     "data": {
      "text/plain": [
       "[Movie(title='The Dark Knight Rises', year=2012, score=8.5),\n",
       " Movie(title='The Dark Knight', year=2008, score=9.0),\n",
       " Movie(title='Interstellar', year=2014, score=8.6),\n",
       " Movie(title='Inception', year=2010, score=8.8),\n",
       " Movie(title='Batman Begins', year=2005, score=8.3),\n",
       " Movie(title='Insomnia', year=2002, score=7.2),\n",
       " Movie(title='The Prestige', year=2006, score=8.5),\n",
       " Movie(title='Memento', year=2000, score=8.5)]"
      ]
     },
     "execution_count": 47,
     "metadata": {},
     "output_type": "execute_result"
    }
   ],
   "source": [
    "directors['Christopher Nolan']"
   ]
  },
  {
   "cell_type": "markdown",
   "metadata": {},
   "source": [
    "Lets get top 5 directors with the most movies using counter"
   ]
  },
  {
   "cell_type": "code",
   "execution_count": 49,
   "metadata": {},
   "outputs": [
    {
     "data": {
      "text/plain": [
       "[('Steven Spielberg', 26),\n",
       " ('Woody Allen', 22),\n",
       " ('Martin Scorsese', 20),\n",
       " ('Clint Eastwood', 20),\n",
       " ('Ridley Scott', 17)]"
      ]
     },
     "execution_count": 49,
     "metadata": {},
     "output_type": "execute_result"
    }
   ],
   "source": [
    "# the Counter() is built in from the collections module\n",
    "cnt = Counter()\n",
    "\n",
    "# you can loop over a dictionary with items\n",
    "for director, movies in directors.items():\n",
    "    # Here we are storing the direcor in the counter object and summing up the length of the movies\n",
    "    cnt[director] += len(movies)\n",
    "    \n",
    "cnt.most_common(5)"
   ]
  }
 ],
 "metadata": {
  "kernelspec": {
   "display_name": "Python 3",
   "language": "python",
   "name": "python3"
  },
  "language_info": {
   "codemirror_mode": {
    "name": "ipython",
    "version": 3
   },
   "file_extension": ".py",
   "mimetype": "text/x-python",
   "name": "python",
   "nbconvert_exporter": "python",
   "pygments_lexer": "ipython3",
   "version": "3.7.0"
  }
 },
 "nbformat": 4,
 "nbformat_minor": 2
}
